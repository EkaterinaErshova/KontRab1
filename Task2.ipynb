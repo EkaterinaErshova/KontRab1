{
 "cells": [
  {
   "cell_type": "code",
   "execution_count": null,
   "id": "c36711b3",
   "metadata": {},
   "outputs": [],
   "source": [
    "from math import sin\n",
    "\n",
    "A = int (input (\"Введите начало интервала \"))\n",
    "B = int (input (\"Введите конец интервала \"))\n",
    "N = int (input (\"Введите шаг изменения аргумента \"))\n",
    "result = {}\n",
    "for x in range (A + 1, B, N):\n",
    "    func = 2 * x +2 * sin (x/3)\n",
    "    result[x] = func\n",
    "print (result)\n",
    "MAX = max (result, key = result.get)\n",
    "func_max = result[MAX]\n",
    "print (\"Максимальное значение функции f(x) на заданном интервале равно\", {func_max}, \"при x = \", {MAX})"
   ]
  },
  {
   "cell_type": "markdown",
   "id": "5dbfc8ef",
   "metadata": {},
   "source": [
    "# "
   ]
  }
 ],
 "metadata": {
  "kernelspec": {
   "display_name": "Python 3",
   "language": "python",
   "name": "python3"
  },
  "language_info": {
   "codemirror_mode": {
    "name": "ipython",
    "version": 3
   },
   "file_extension": ".py",
   "mimetype": "text/x-python",
   "name": "python",
   "nbconvert_exporter": "python",
   "pygments_lexer": "ipython3",
   "version": "3.8.5"
  }
 },
 "nbformat": 4,
 "nbformat_minor": 5
}
